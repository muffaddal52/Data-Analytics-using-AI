{
  "nbformat": 4,
  "nbformat_minor": 0,
  "metadata": {
    "colab": {
      "provenance": [],
      "authorship_tag": "ABX9TyPrz0m3ANl7IGUKPuuG1aFc",
      "include_colab_link": true
    },
    "kernelspec": {
      "name": "python3",
      "display_name": "Python 3"
    },
    "language_info": {
      "name": "python"
    }
  },
  "cells": [
    {
      "cell_type": "markdown",
      "metadata": {
        "id": "view-in-github",
        "colab_type": "text"
      },
      "source": [
        "<a href=\"https://colab.research.google.com/github/muffaddal52/Data-Analytics-using-AI/blob/main/Unlock_Actionable_Insights_from_Surveys_using%C2%A0AI.ipynb\" target=\"_parent\"><img src=\"https://colab.research.google.com/assets/colab-badge.svg\" alt=\"Open In Colab\"/></a>"
      ]
    },
    {
      "cell_type": "code",
      "execution_count": null,
      "metadata": {
        "id": "TMep2akgeUmv"
      },
      "outputs": [],
      "source": [
        "pip install --upgrade google-api-python-client google-auth-httplib2 google-auth-oauthlib certifi pip-system-certs"
      ]
    },
    {
      "cell_type": "markdown",
      "source": [
        "# Read Data From Google Spreadsheets using Python"
      ],
      "metadata": {
        "id": "u_SD6_4tfKcA"
      }
    },
    {
      "cell_type": "code",
      "source": [
        "import os.path\n",
        "\n",
        "from google.auth.transport.requests import Request\n",
        "from google.oauth2.credentials import Credentials\n",
        "from google_auth_oauthlib.flow import InstalledAppFlow\n",
        "from googleapiclient.discovery import build\n",
        "from googleapiclient.errors import HttpError\n",
        "\n",
        "# If modifying these scopes, delete the file token.json.\n",
        "SCOPES = [\"https://www.googleapis.com/auth/spreadsheets.readonly\"]\n",
        "\n",
        "# The ID and range of a your survey spreadsheet.\n",
        "SAMPLE_SPREADSHEET_ID = \"1K6PZoYMyChogoQZDsLXh1YWA3ROTf44kxjc67McvrFM\"\n",
        "SAMPLE_RANGE_NAME = \"Sheet1\"\n",
        "\n",
        "import pandas as pd\n",
        "def read_spreadsheet():\n",
        "  \"\"\"Shows basic usage of the Sheets API.\n",
        "  Prints values from a sample spreadsheet.\n",
        "  \"\"\"\n",
        "  creds = None\n",
        "  # The file token.json stores the user's access and refresh tokens, and is\n",
        "  # created automatically when the authorization flow completes for the first\n",
        "  # time.\n",
        "  if os.path.exists(\"token.json\"):\n",
        "    creds = Credentials.from_authorized_user_file(\"token.json\", SCOPES)\n",
        "  # If there are no (valid) credentials available, let the user log in.\n",
        "  if not creds or not creds.valid:\n",
        "    if creds and creds.expired and creds.refresh_token:\n",
        "      creds.refresh(Request())\n",
        "    else:\n",
        "      flow = InstalledAppFlow.from_client_secrets_file(\n",
        "          \"credentials.json\", SCOPES\n",
        "      )\n",
        "      creds = flow.run_local_server(port=0)\n",
        "    # Save the credentials for the next run\n",
        "    with open(\"token.json\", \"w\") as token:\n",
        "      token.write(creds.to_json())\n",
        "\n",
        "  try:\n",
        "    service = build(\"sheets\", \"v4\", credentials=creds)\n",
        "\n",
        "    # Call the Sheets API\n",
        "    sheet = service.spreadsheets()\n",
        "    result = (\n",
        "        sheet.values()\n",
        "        .get(spreadsheetId=SAMPLE_SPREADSHEET_ID, range=SAMPLE_RANGE_NAME)\n",
        "        .execute()\n",
        "    )\n",
        "    values = result.get(\"values\", [])\n",
        "\n",
        "    if not values:\n",
        "      print(\"No data found.\")\n",
        "      return\n",
        "\n",
        "    # print(\"Name, Major:\")\n",
        "    # for row in values:\n",
        "      # Print columns A and E, which correspond to indices 0 and 4.\n",
        "      # print(f\"{row[0]}, {row[4]}\")\n",
        "    df = pd.DataFrame(values[1:], columns=values[0])\n",
        "    return df\n",
        "  except HttpError as err:\n",
        "    print(err)\n",
        "\n",
        "df = read_spreadsheet()\n",
        "df.head(6)\n",
        "\n",
        "# if __name__ == \"__main__\":\n",
        "  # read_spreadsheet()"
      ],
      "metadata": {
        "id": "64rIulABeeM-"
      },
      "execution_count": null,
      "outputs": []
    },
    {
      "cell_type": "markdown",
      "source": [
        "# Create AI Agent Using Langchain"
      ],
      "metadata": {
        "id": "nY80qJ5gfWLG"
      }
    },
    {
      "cell_type": "code",
      "source": [
        "import langchain\n",
        "from langchain.agents.agent_types import AgentType\n",
        "from langchain.chat_models import ChatOpenAI\n",
        "\n",
        "from langchain_experimental.agents.agent_toolkits import create_pandas_dataframe_agent\n",
        "from langchain.llms import OpenAI\n",
        "from langchain.agents.agent_types import AgentType\n",
        "\n",
        "import pandas as pd\n",
        "\n",
        "open_api_key = \"insert open ai key here\"\n",
        "#provide context to our Agent\n",
        "prefix = \"\"\"\n",
        "You are working with 1 pandas dataframes in Python named df1.\n",
        "\n",
        "[add the details about the survey here to provide context to the AI]\n",
        "\n",
        "you should use the tools below to answer the question posed of you:\n",
        "\"\"\""
      ],
      "metadata": {
        "id": "vyQSuaH_ejwm"
      },
      "execution_count": null,
      "outputs": []
    },
    {
      "cell_type": "code",
      "source": [
        "open_api_key = <your open ai key here>\n",
        "model =\"gpt-4-1106-preview\"\n",
        "chat = ChatOpenAI(openai_api_key = open_api_key,model = model , temperature=0.0)\n",
        "agent = create_pandas_dataframe_agent(chat, df, PREFIX = prefix, verbose = True, max_iterations=10, handle_parsing_errors=True )\n"
      ],
      "metadata": {
        "id": "XmH-tJ5heqxt"
      },
      "execution_count": null,
      "outputs": []
    },
    {
      "cell_type": "markdown",
      "source": [
        "# Generate Insights"
      ],
      "metadata": {
        "id": "YltgGo9pfj2h"
      }
    },
    {
      "cell_type": "markdown",
      "source": [
        "## Get Executive Summary"
      ],
      "metadata": {
        "id": "nWM238d_fmxK"
      }
    },
    {
      "cell_type": "code",
      "source": [
        "agent.run(\"\"\"write an executive summary that succinctly captures the key information about to the questions answered by users. Ensure the summary is informative, and provides a comprehensive overview.\n",
        "                        Consider both the questions and answers to generate the summary.\"\"\")"
      ],
      "metadata": {
        "id": "eH2Ye3bGe71p"
      },
      "execution_count": null,
      "outputs": []
    },
    {
      "cell_type": "markdown",
      "source": [
        "## Get Questions Insights"
      ],
      "metadata": {
        "id": "uedyPlrXfrjM"
      }
    },
    {
      "cell_type": "code",
      "source": [
        "# get the list of questions as text\n",
        "result = agent.run(\"give me list of questions in the data set. I need only the questions as a list nothing else. Don't even add any other text just the list of questions\")\n",
        "\n",
        "# convert string of questions into list\n",
        "import ast\n",
        "questions_list = ast.literal_eval(result)"
      ],
      "metadata": {
        "id": "34i9tEtve_Rc"
      },
      "execution_count": null,
      "outputs": []
    },
    {
      "cell_type": "code",
      "source": [
        "from IPython.display import Markdown, display\n",
        "def printmd(string):\n",
        "    display(Markdown(string))\n",
        "for question in questions_list:\n",
        "    result = agent.run(f\"\"\" You are an expert growth marketing manager. Extract an important insights from the question below, you need to only consider and filter the dataset for this question. Use % to show distribution of answers as well. Find any insights or suggestions for improvements based on people responses.\n",
        "        {question}\"\"\")\n",
        "    printmd(\"### For Question: \"+ question)\n",
        "    printmd(result)\n"
      ],
      "metadata": {
        "id": "ULXOmJCCe_G5"
      },
      "execution_count": null,
      "outputs": []
    }
  ]
}